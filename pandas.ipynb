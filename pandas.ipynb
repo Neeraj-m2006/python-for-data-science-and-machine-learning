{
 "cells": [
  {
   "cell_type": "code",
   "execution_count": 1,
   "metadata": {},
   "outputs": [
    {
     "name": "stdout",
     "output_type": "stream",
     "text": [
      "Requirement already satisfied: pandas in c:\\programdata\\anaconda3\\lib\\site-packages (0.24.2)\n",
      "Requirement already satisfied: numpy in c:\\programdata\\anaconda3\\lib\\site-packages (1.16.4)\n",
      "Requirement already satisfied: pytz>=2011k in c:\\programdata\\anaconda3\\lib\\site-packages (from pandas) (2019.1)\n",
      "Requirement already satisfied: python-dateutil>=2.5.0 in c:\\programdata\\anaconda3\\lib\\site-packages (from pandas) (2.8.0)\n",
      "Requirement already satisfied: six>=1.5 in c:\\programdata\\anaconda3\\lib\\site-packages (from python-dateutil>=2.5.0->pandas) (1.12.0)\n",
      "Note: you may need to restart the kernel to use updated packages.\n"
     ]
    }
   ],
   "source": [
    "pip install pandas numpy"
   ]
  },
  {
   "cell_type": "code",
   "execution_count": 2,
   "metadata": {},
   "outputs": [],
   "source": [
    "import pandas as pd\n",
    "renewable_sources = [\"solar\",\"wind\",\"hydropower\",\"geothermal\",\"biomass\"]\n",
    "data={\n",
    "    \"project\":[\"solar farm a\",\"wind turbine x\",\"hydropowery\",\"solar roof z\",\"geothermal plant p\"],\n",
    "    \"technology\":[\"solar\",\"wind\",\"hydropower\",\"solar\",\"geothermal\"],\n",
    "    \"capacity (mw)\":[150,300,200,50,100],\n",
    "    \"cost (million $)\":[200,400,350,100,250],\n",
    "    \"location\":[\"california\",\"texas\",\"washington\",\"nevada\",\"idaho\"],\n",
    "    \"completion year\":[2023,2024,2022,2025,2023]\n",
    "}"
   ]
  },
  {
   "cell_type": "code",
   "execution_count": 3,
   "metadata": {},
   "outputs": [
    {
     "name": "stdout",
     "output_type": "stream",
     "text": [
      "renewable energy sources:\n",
      "0         solar\n",
      "1          wind\n",
      "2    hydropower\n",
      "3    geothermal\n",
      "4       biomass\n",
      "dtype: object\n"
     ]
    }
   ],
   "source": [
    "renewable_series =pd.Series(renewable_sources)\n",
    "print(\"renewable energy sources:\")\n",
    "print(renewable_series)"
   ]
  },
  {
   "cell_type": "code",
   "execution_count": 4,
   "metadata": {},
   "outputs": [
    {
     "name": "stdout",
     "output_type": "stream",
     "text": [
      "\n",
      " Green Technology Projects Dataframe:\n",
      "              project  technology  capacity (mw)  cost (million $)  \\\n",
      "0        solar farm a       solar            150               200   \n",
      "1      wind turbine x        wind            300               400   \n",
      "2         hydropowery  hydropower            200               350   \n",
      "3        solar roof z       solar             50               100   \n",
      "4  geothermal plant p  geothermal            100               250   \n",
      "\n",
      "     location  completion year  \n",
      "0  california             2023  \n",
      "1       texas             2024  \n",
      "2  washington             2022  \n",
      "3      nevada             2025  \n",
      "4       idaho             2023  \n"
     ]
    }
   ],
   "source": [
    "projects_df = pd.DataFrame(data)\n",
    "print(\"\\n Green Technology Projects Dataframe:\")\n",
    "print(projects_df)\n"
   ]
  },
  {
   "cell_type": "code",
   "execution_count": 8,
   "metadata": {},
   "outputs": [
    {
     "name": "stdout",
     "output_type": "stream",
     "text": [
      "\n",
      " list of projects:\n",
      "0          solar farm a\n",
      "1        wind turbine x\n",
      "2           hydropowery\n",
      "3          solar roof z\n",
      "4    geothermal plant p\n",
      "Name: project, dtype: object\n"
     ]
    }
   ],
   "source": [
    "print(\"\\n list of projects:\")\n",
    "print(projects_df[\"project\"])"
   ]
  },
  {
   "cell_type": "code",
   "execution_count": 9,
   "metadata": {},
   "outputs": [
    {
     "name": "stdout",
     "output_type": "stream",
     "text": [
      "\n",
      " list of capacity (mw):\n",
      "0    150\n",
      "1    300\n",
      "2    200\n",
      "3     50\n",
      "4    100\n",
      "Name: capacity (mw), dtype: int64\n"
     ]
    }
   ],
   "source": [
    "print(\"\\n list of capacity (mw):\")\n",
    "print(projects_df[\"capacity (mw)\"])"
   ]
  },
  {
   "cell_type": "code",
   "execution_count": 11,
   "metadata": {},
   "outputs": [
    {
     "name": "stdout",
     "output_type": "stream",
     "text": [
      "\n",
      " projects with capacity greater than  100 mw:\n",
      "          project  technology  capacity (mw)  cost (million $)    location  \\\n",
      "0    solar farm a       solar            150               200  california   \n",
      "1  wind turbine x        wind            300               400       texas   \n",
      "2     hydropowery  hydropower            200               350  washington   \n",
      "\n",
      "   completion year  \n",
      "0             2023  \n",
      "1             2024  \n",
      "2             2022  \n"
     ]
    }
   ],
   "source": [
    "high_capacity_projects = projects_df[projects_df[\"capacity (mw)\"]>100]\n",
    "print(\"\\n projects with capacity greater than  100 mw:\")\n",
    "print(high_capacity_projects)"
   ]
  },
  {
   "cell_type": "code",
   "execution_count": 12,
   "metadata": {},
   "outputs": [
    {
     "name": "stdout",
     "output_type": "stream",
     "text": [
      "\n",
      " DataFrame with cost per mw:\n",
      "              project  technology  capacity (mw)  cost (million $)  \\\n",
      "0        solar farm a       solar            150               200   \n",
      "1      wind turbine x        wind            300               400   \n",
      "2         hydropowery  hydropower            200               350   \n",
      "3        solar roof z       solar             50               100   \n",
      "4  geothermal plant p  geothermal            100               250   \n",
      "\n",
      "     location  completion year  cost per mw  \n",
      "0  california             2023     1.333333  \n",
      "1       texas             2024     1.333333  \n",
      "2  washington             2022     1.750000  \n",
      "3      nevada             2025     2.000000  \n",
      "4       idaho             2023     2.500000  \n"
     ]
    }
   ],
   "source": [
    "projects_df[\"cost per mw\"] = projects_df[\"cost (million $)\"]/ projects_df[\"capacity (mw)\"]\n",
    "print(\"\\n DataFrame with cost per mw:\")\n",
    "print(projects_df)"
   ]
  },
  {
   "cell_type": "code",
   "execution_count": 14,
   "metadata": {},
   "outputs": [
    {
     "name": "stdout",
     "output_type": "stream",
     "text": [
      "\n",
      " total capacity of all projects: 800 mw\n",
      "total cost of all projects: $1300 million\n"
     ]
    }
   ],
   "source": [
    "total_capacity = projects_df[\"capacity (mw)\"].sum()\n",
    "total_cost = projects_df[\"cost (million $)\"].sum()\n",
    "print(f\"\\n total capacity of all projects: {total_capacity} mw\")\n",
    "print(f\"total cost of all projects: ${total_cost} million\")"
   ]
  },
  {
   "cell_type": "code",
   "execution_count": 15,
   "metadata": {},
   "outputs": [
    {
     "name": "stdout",
     "output_type": "stream",
     "text": [
      "\n",
      " total capacity by technology:\n",
      "technology\n",
      "geothermal    100\n",
      "hydropower    200\n",
      "solar         200\n",
      "wind          300\n",
      "Name: capacity (mw), dtype: int64\n"
     ]
    }
   ],
   "source": [
    "grouped_data = projects_df.groupby(\"technology\")[\"capacity (mw)\"].sum()\n",
    "print(\"\\n total capacity by technology:\")\n",
    "print(grouped_data)"
   ]
  },
  {
   "cell_type": "code",
   "execution_count": null,
   "metadata": {},
   "outputs": [],
   "source": []
  }
 ],
 "metadata": {
  "kernelspec": {
   "display_name": "Python 3",
   "language": "python",
   "name": "python3"
  },
  "language_info": {
   "codemirror_mode": {
    "name": "ipython",
    "version": 3
   },
   "file_extension": ".py",
   "mimetype": "text/x-python",
   "name": "python",
   "nbconvert_exporter": "python",
   "pygments_lexer": "ipython3",
   "version": "3.7.3"
  }
 },
 "nbformat": 4,
 "nbformat_minor": 2
}
