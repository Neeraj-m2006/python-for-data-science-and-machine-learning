{
 "cells": [
  {
   "cell_type": "code",
   "execution_count": 6,
   "metadata": {},
   "outputs": [
    {
     "name": "stdout",
     "output_type": "stream",
     "text": [
      "cities with high temperature(>26 c):\n",
      "city B-30c\n",
      "city E-28c\n"
     ]
    }
   ],
   "source": [
    "climate_data=[\n",
    "    {\"city\": \"city A\", \"temperature\":25,\"carbon_footprint\":500},\n",
    "    {\"city\": \"city B\", \"temperature\":30,\"carbon_footprint\":350},\n",
    "    {\"city\": \"city C\", \"temperature\":22,\"carbon_footprint\":600},\n",
    "    {\"city\": \"city D\", \"temperature\":15,\"carbon_footprint\":200},\n",
    "    {\"city\": \"city E\", \"temperature\":28,\"carbon_footprint\":450},\n",
    "]\n",
    "high_temp_threshold=26\n",
    "high_temp_cities=[city for city in climate_data if city[\"temperature\"]>high_temp_threshold]\n",
    "print(\"cities with high temperature(>26 c):\")\n",
    "for city in high_temp_cities:\n",
    "    print(f\"{city['city']}-{city['temperature']}c\")\n",
    "         "
   ]
  },
  {
   "cell_type": "code",
   "execution_count": 7,
   "metadata": {},
   "outputs": [
    {
     "name": "stdout",
     "output_type": "stream",
     "text": [
      "\n",
      "average carbon_footprint: 100.000000kg co2\n",
      "\n",
      "average carbon_footprint: 170.000000kg co2\n",
      "\n",
      "average carbon_footprint: 290.000000kg co2\n",
      "\n",
      "average carbon_footprint: 330.000000kg co2\n",
      "\n",
      "average carbon_footprint: 420.000000kg co2\n"
     ]
    }
   ],
   "source": [
    "total_carbon=0\n",
    "for city in climate_data:\n",
    "    total_carbon += city[\"carbon_footprint\"]\n",
    "    average_carbon_footprint=total_carbon/len(climate_data)\n",
    "    print(f\"\\naverage carbon_footprint: {average_carbon_footprint:2f}kg co2\")"
   ]
  },
  {
   "cell_type": "code",
   "execution_count": 9,
   "metadata": {},
   "outputs": [
    {
     "name": "stdout",
     "output_type": "stream",
     "text": [
      "city B - 350 kg co2\n",
      "city D - 200 kg co2\n"
     ]
    }
   ],
   "source": [
    "sustainability_threshold =400\n",
    "sustainability_cities =list(filter(lambda city: city[\"carbon_footprint\"]<sustainability_threshold,climate_data))\n",
    "for city in sustainability_cities:\n",
    "    print(f\"{city['city']} - {city['carbon_footprint']} kg co2\")"
   ]
  },
  {
   "cell_type": "code",
   "execution_count": 10,
   "metadata": {},
   "outputs": [
    {
     "name": "stdout",
     "output_type": "stream",
     "text": [
      "\n",
      "city with the highest carbon footprint:\n",
      "city C-600 kg co2\n"
     ]
    }
   ],
   "source": [
    "highest_footprint_city =max(climate_data,key=lambda city: city[\"carbon_footprint\"])\n",
    "print(f\"\\ncity with the highest carbon footprint:\")\n",
    "print(f\"{highest_footprint_city['city']}-{highest_footprint_city['carbon_footprint']} kg co2\")"
   ]
  },
  {
   "cell_type": "code",
   "execution_count": null,
   "metadata": {},
   "outputs": [],
   "source": []
  }
 ],
 "metadata": {
  "kernelspec": {
   "display_name": "Python 3",
   "language": "python",
   "name": "python3"
  },
  "language_info": {
   "codemirror_mode": {
    "name": "ipython",
    "version": 3
   },
   "file_extension": ".py",
   "mimetype": "text/x-python",
   "name": "python",
   "nbconvert_exporter": "python",
   "pygments_lexer": "ipython3",
   "version": "3.7.3"
  }
 },
 "nbformat": 4,
 "nbformat_minor": 2
}
